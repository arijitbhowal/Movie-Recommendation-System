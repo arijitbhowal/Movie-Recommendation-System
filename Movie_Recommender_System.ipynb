{
  "cells": [
    {
      "cell_type": "code",
      "execution_count": null,
      "metadata": {
        "id": "a4aca895"
      },
      "outputs": [],
      "source": [
        "import numpy as np\n",
        "import pandas as pd"
      ],
      "id": "a4aca895"
    },
    {
      "cell_type": "code",
      "execution_count": null,
      "metadata": {
        "id": "Kf-XtsTw3oTU",
        "colab": {
          "base_uri": "https://localhost:8080/"
        },
        "outputId": "ada578fa-ff09-4e9c-d6b7-4cb0da2773c9"
      },
      "outputs": [
        {
          "output_type": "stream",
          "name": "stdout",
          "text": [
            "\u001b[?25l     \u001b[90m━━━━━━━━━━━━━━━━━━━━━━━━━━━━━━━━━━━━━━━━\u001b[0m \u001b[32m0.0/68.6 kB\u001b[0m \u001b[31m?\u001b[0m eta \u001b[36m-:--:--\u001b[0m\r\u001b[2K     \u001b[90m━━━━━━━━━━━━━━━━━━━━━━━━━━━━━━━━━━━━━━━━\u001b[0m \u001b[32m68.6/68.6 kB\u001b[0m \u001b[31m1.8 MB/s\u001b[0m eta \u001b[36m0:00:00\u001b[0m\n",
            "\u001b[?25h  Preparing metadata (setup.py) ... \u001b[?25l\u001b[?25hdone\n",
            "  Building wheel for uuid (setup.py) ... \u001b[?25l\u001b[?25hdone\n"
          ]
        }
      ],
      "source": [
        "!pip install jovian opendatasets --upgrade --quiet"
      ],
      "id": "Kf-XtsTw3oTU"
    },
    {
      "cell_type": "code",
      "execution_count": null,
      "metadata": {
        "id": "aBEJIPLX3ph7"
      },
      "outputs": [],
      "source": [
        "dataset_url = 'https://www.kaggle.com/datasets/akshaypawar7/millions-of-movies'"
      ],
      "id": "aBEJIPLX3ph7"
    },
    {
      "cell_type": "code",
      "execution_count": null,
      "metadata": {
        "colab": {
          "base_uri": "https://localhost:8080/"
        },
        "id": "8W0yr8fD3xaE",
        "outputId": "27cfe298-2b1f-4dcf-903d-6465fc36dcde"
      },
      "outputs": [
        {
          "output_type": "stream",
          "name": "stdout",
          "text": [
            "Please provide your Kaggle credentials to download this dataset. Learn more: http://bit.ly/kaggle-creds\n",
            "Your Kaggle username: arijitbhowal\n",
            "Your Kaggle Key: ··········\n",
            "Downloading millions-of-movies.zip to ./millions-of-movies\n"
          ]
        },
        {
          "output_type": "stream",
          "name": "stderr",
          "text": [
            "100%|██████████| 164M/164M [00:01<00:00, 103MB/s]\n"
          ]
        },
        {
          "output_type": "stream",
          "name": "stdout",
          "text": [
            "\n"
          ]
        }
      ],
      "source": [
        "import opendatasets as od\n",
        "od.download(dataset_url)"
      ],
      "id": "8W0yr8fD3xaE"
    },
    {
      "cell_type": "code",
      "execution_count": null,
      "metadata": {
        "id": "PJxkFRNV35A1"
      },
      "outputs": [],
      "source": [
        "data_dir = './millions-of-movies'"
      ],
      "id": "PJxkFRNV35A1"
    },
    {
      "cell_type": "code",
      "execution_count": null,
      "metadata": {
        "id": "136c973b"
      },
      "outputs": [],
      "source": [
        "df1=pd.read_csv(data_dir + \"/movies.csv\")"
      ],
      "id": "136c973b"
    },
    {
      "cell_type": "code",
      "execution_count": null,
      "metadata": {
        "colab": {
          "base_uri": "https://localhost:8080/",
          "height": 694
        },
        "id": "e737e6db",
        "outputId": "140864ab-a685-4684-e82b-6854f9658f79"
      },
      "outputs": [
        {
          "output_type": "execute_result",
          "data": {
            "text/plain": [
              "       id                              title  \\\n",
              "0  758323                The Pope's Exorcist   \n",
              "1  667538   Transformers: Rise of the Beasts   \n",
              "2  640146  Ant-Man and the Wasp: Quantumania   \n",
              "3  677179                          Creed III   \n",
              "4  614479            Insidious: The Red Door   \n",
              "\n",
              "                             genres original_language  \\\n",
              "0           Horror-Mystery-Thriller                en   \n",
              "1  Action-Adventure-Science Fiction                en   \n",
              "2  Action-Adventure-Science Fiction                en   \n",
              "3                      Drama-Action                en   \n",
              "4           Horror-Mystery-Thriller                en   \n",
              "\n",
              "                                            overview  popularity  \\\n",
              "0  Father Gabriele Amorth Chief Exorcist of the V...    5953.227   \n",
              "1  When a new threat capable of destroying the en...    5409.104   \n",
              "2  Super-Hero partners Scott Lang and Hope van Dy...    4425.387   \n",
              "3  After dominating the boxing world Adonis Creed...    3994.342   \n",
              "4  To put their demons to rest once and for all J...    3512.648   \n",
              "\n",
              "                                production_companies release_date  \\\n",
              "0  Screen Gems-2.0 Entertainment-Jesus & Mary-Wor...   2023-04-05   \n",
              "1  Skydance-Paramount-di Bonaventura Pictures-Bay...   2023-06-06   \n",
              "2             Marvel Studios-Kevin Feige Productions   2023-02-15   \n",
              "3  Metro-Goldwyn-Mayer-Proximity Media-Balboa Pro...   2023-03-01   \n",
              "4  Blumhouse Productions-Stage 6 Films-Screen Gem...   2023-07-05   \n",
              "\n",
              "        budget      revenue  runtime    status  \\\n",
              "0   18000000.0   65675816.0    103.0  Released   \n",
              "1  200000000.0  407045464.0    127.0  Released   \n",
              "2  200000000.0  475766228.0    125.0  Released   \n",
              "3   75000000.0  269000000.0    116.0  Released   \n",
              "4   16000000.0  175582093.0    107.0  Released   \n",
              "\n",
              "                                             tagline  vote_average  \\\n",
              "0  Inspired by the actual files of Father Gabriel...         7.433   \n",
              "1                                     Unite or fall.         7.340   \n",
              "2            Witness the beginning of a new dynasty.         6.507   \n",
              "3                      You can't run from your past.         7.262   \n",
              "4                        It ends where it all began.         6.750   \n",
              "\n",
              "   vote_count                                            credits  \\\n",
              "0       545.0  Russell Crowe-Daniel Zovatto-Alex Essoe-Franco...   \n",
              "1      1007.0  Anthony Ramos-Dominique Fishback-Luna Lauren V...   \n",
              "2      2811.0  Paul Rudd-Evangeline Lilly-Jonathan Majors-Kat...   \n",
              "3      1129.0  Michael B. Jordan-Tessa Thompson-Jonathan Majo...   \n",
              "4       564.0  Ty Simpkins-Patrick Wilson-Sinclair Daniel-Ros...   \n",
              "\n",
              "                                            keywords  \\\n",
              "0  spain-rome italy-vatican-pope-pig-possession-c...   \n",
              "1  peru-alien-end of the world-based on cartoon-b...   \n",
              "2  hero-ant-sequel-superhero-based on comic-famil...   \n",
              "3  philadelphia pennsylvania-husband wife relatio...   \n",
              "4  sequel-demon-franchise-insidious-supernatural ...   \n",
              "\n",
              "                        poster_path                     backdrop_path  \\\n",
              "0  /9JBEPLTPSm0d1mbEcLxULjJq9Eh.jpg  /hiHGRbyTcbZoLsYYkO4QiCLYe34.jpg   \n",
              "1  /gPbM0MK8CP8A174rmUwGsADNYKD.jpg  /woJbg7ZqidhpvqFGGMRhWQNoxwa.jpg   \n",
              "2  /qnqGbB22YJ7dSs4o6M7exTpNxPz.jpg  /m8JTwHFwX7I7JY5fPe4SjqejWag.jpg   \n",
              "3  /cvsXj3I9Q2iyyIo95AecSd1tad7.jpg  /5i6SjyDbDWqyun8klUuCxrlFbyw.jpg   \n",
              "4  /azTC5osYiqei1ofw6Z3GmUrxQbi.jpg  /i2GVEvltEu3BXn5crBSxgKuTaca.jpg   \n",
              "\n",
              "                                     recommendations  \n",
              "0  713704-296271-502356-1076605-1084225-1008005-9...  \n",
              "1  496450-569094-298618-385687-877100-598331-4628...  \n",
              "2  823999-676841-868759-734048-267805-965839-1033...  \n",
              "3  965839-267805-943822-842942-1035806-823999-107...  \n",
              "4  681435-644937-448085-980848-1101547-988355-561...  "
            ],
            "text/html": [
              "\n",
              "  <div id=\"df-7eff2d02-9ed7-4472-85b6-8f1890d4926c\" class=\"colab-df-container\">\n",
              "    <div>\n",
              "<style scoped>\n",
              "    .dataframe tbody tr th:only-of-type {\n",
              "        vertical-align: middle;\n",
              "    }\n",
              "\n",
              "    .dataframe tbody tr th {\n",
              "        vertical-align: top;\n",
              "    }\n",
              "\n",
              "    .dataframe thead th {\n",
              "        text-align: right;\n",
              "    }\n",
              "</style>\n",
              "<table border=\"1\" class=\"dataframe\">\n",
              "  <thead>\n",
              "    <tr style=\"text-align: right;\">\n",
              "      <th></th>\n",
              "      <th>id</th>\n",
              "      <th>title</th>\n",
              "      <th>genres</th>\n",
              "      <th>original_language</th>\n",
              "      <th>overview</th>\n",
              "      <th>popularity</th>\n",
              "      <th>production_companies</th>\n",
              "      <th>release_date</th>\n",
              "      <th>budget</th>\n",
              "      <th>revenue</th>\n",
              "      <th>runtime</th>\n",
              "      <th>status</th>\n",
              "      <th>tagline</th>\n",
              "      <th>vote_average</th>\n",
              "      <th>vote_count</th>\n",
              "      <th>credits</th>\n",
              "      <th>keywords</th>\n",
              "      <th>poster_path</th>\n",
              "      <th>backdrop_path</th>\n",
              "      <th>recommendations</th>\n",
              "    </tr>\n",
              "  </thead>\n",
              "  <tbody>\n",
              "    <tr>\n",
              "      <th>0</th>\n",
              "      <td>758323</td>\n",
              "      <td>The Pope's Exorcist</td>\n",
              "      <td>Horror-Mystery-Thriller</td>\n",
              "      <td>en</td>\n",
              "      <td>Father Gabriele Amorth Chief Exorcist of the V...</td>\n",
              "      <td>5953.227</td>\n",
              "      <td>Screen Gems-2.0 Entertainment-Jesus &amp; Mary-Wor...</td>\n",
              "      <td>2023-04-05</td>\n",
              "      <td>18000000.0</td>\n",
              "      <td>65675816.0</td>\n",
              "      <td>103.0</td>\n",
              "      <td>Released</td>\n",
              "      <td>Inspired by the actual files of Father Gabriel...</td>\n",
              "      <td>7.433</td>\n",
              "      <td>545.0</td>\n",
              "      <td>Russell Crowe-Daniel Zovatto-Alex Essoe-Franco...</td>\n",
              "      <td>spain-rome italy-vatican-pope-pig-possession-c...</td>\n",
              "      <td>/9JBEPLTPSm0d1mbEcLxULjJq9Eh.jpg</td>\n",
              "      <td>/hiHGRbyTcbZoLsYYkO4QiCLYe34.jpg</td>\n",
              "      <td>713704-296271-502356-1076605-1084225-1008005-9...</td>\n",
              "    </tr>\n",
              "    <tr>\n",
              "      <th>1</th>\n",
              "      <td>667538</td>\n",
              "      <td>Transformers: Rise of the Beasts</td>\n",
              "      <td>Action-Adventure-Science Fiction</td>\n",
              "      <td>en</td>\n",
              "      <td>When a new threat capable of destroying the en...</td>\n",
              "      <td>5409.104</td>\n",
              "      <td>Skydance-Paramount-di Bonaventura Pictures-Bay...</td>\n",
              "      <td>2023-06-06</td>\n",
              "      <td>200000000.0</td>\n",
              "      <td>407045464.0</td>\n",
              "      <td>127.0</td>\n",
              "      <td>Released</td>\n",
              "      <td>Unite or fall.</td>\n",
              "      <td>7.340</td>\n",
              "      <td>1007.0</td>\n",
              "      <td>Anthony Ramos-Dominique Fishback-Luna Lauren V...</td>\n",
              "      <td>peru-alien-end of the world-based on cartoon-b...</td>\n",
              "      <td>/gPbM0MK8CP8A174rmUwGsADNYKD.jpg</td>\n",
              "      <td>/woJbg7ZqidhpvqFGGMRhWQNoxwa.jpg</td>\n",
              "      <td>496450-569094-298618-385687-877100-598331-4628...</td>\n",
              "    </tr>\n",
              "    <tr>\n",
              "      <th>2</th>\n",
              "      <td>640146</td>\n",
              "      <td>Ant-Man and the Wasp: Quantumania</td>\n",
              "      <td>Action-Adventure-Science Fiction</td>\n",
              "      <td>en</td>\n",
              "      <td>Super-Hero partners Scott Lang and Hope van Dy...</td>\n",
              "      <td>4425.387</td>\n",
              "      <td>Marvel Studios-Kevin Feige Productions</td>\n",
              "      <td>2023-02-15</td>\n",
              "      <td>200000000.0</td>\n",
              "      <td>475766228.0</td>\n",
              "      <td>125.0</td>\n",
              "      <td>Released</td>\n",
              "      <td>Witness the beginning of a new dynasty.</td>\n",
              "      <td>6.507</td>\n",
              "      <td>2811.0</td>\n",
              "      <td>Paul Rudd-Evangeline Lilly-Jonathan Majors-Kat...</td>\n",
              "      <td>hero-ant-sequel-superhero-based on comic-famil...</td>\n",
              "      <td>/qnqGbB22YJ7dSs4o6M7exTpNxPz.jpg</td>\n",
              "      <td>/m8JTwHFwX7I7JY5fPe4SjqejWag.jpg</td>\n",
              "      <td>823999-676841-868759-734048-267805-965839-1033...</td>\n",
              "    </tr>\n",
              "    <tr>\n",
              "      <th>3</th>\n",
              "      <td>677179</td>\n",
              "      <td>Creed III</td>\n",
              "      <td>Drama-Action</td>\n",
              "      <td>en</td>\n",
              "      <td>After dominating the boxing world Adonis Creed...</td>\n",
              "      <td>3994.342</td>\n",
              "      <td>Metro-Goldwyn-Mayer-Proximity Media-Balboa Pro...</td>\n",
              "      <td>2023-03-01</td>\n",
              "      <td>75000000.0</td>\n",
              "      <td>269000000.0</td>\n",
              "      <td>116.0</td>\n",
              "      <td>Released</td>\n",
              "      <td>You can't run from your past.</td>\n",
              "      <td>7.262</td>\n",
              "      <td>1129.0</td>\n",
              "      <td>Michael B. Jordan-Tessa Thompson-Jonathan Majo...</td>\n",
              "      <td>philadelphia pennsylvania-husband wife relatio...</td>\n",
              "      <td>/cvsXj3I9Q2iyyIo95AecSd1tad7.jpg</td>\n",
              "      <td>/5i6SjyDbDWqyun8klUuCxrlFbyw.jpg</td>\n",
              "      <td>965839-267805-943822-842942-1035806-823999-107...</td>\n",
              "    </tr>\n",
              "    <tr>\n",
              "      <th>4</th>\n",
              "      <td>614479</td>\n",
              "      <td>Insidious: The Red Door</td>\n",
              "      <td>Horror-Mystery-Thriller</td>\n",
              "      <td>en</td>\n",
              "      <td>To put their demons to rest once and for all J...</td>\n",
              "      <td>3512.648</td>\n",
              "      <td>Blumhouse Productions-Stage 6 Films-Screen Gem...</td>\n",
              "      <td>2023-07-05</td>\n",
              "      <td>16000000.0</td>\n",
              "      <td>175582093.0</td>\n",
              "      <td>107.0</td>\n",
              "      <td>Released</td>\n",
              "      <td>It ends where it all began.</td>\n",
              "      <td>6.750</td>\n",
              "      <td>564.0</td>\n",
              "      <td>Ty Simpkins-Patrick Wilson-Sinclair Daniel-Ros...</td>\n",
              "      <td>sequel-demon-franchise-insidious-supernatural ...</td>\n",
              "      <td>/azTC5osYiqei1ofw6Z3GmUrxQbi.jpg</td>\n",
              "      <td>/i2GVEvltEu3BXn5crBSxgKuTaca.jpg</td>\n",
              "      <td>681435-644937-448085-980848-1101547-988355-561...</td>\n",
              "    </tr>\n",
              "  </tbody>\n",
              "</table>\n",
              "</div>\n",
              "    <div class=\"colab-df-buttons\">\n",
              "\n",
              "  <div class=\"colab-df-container\">\n",
              "    <button class=\"colab-df-convert\" onclick=\"convertToInteractive('df-7eff2d02-9ed7-4472-85b6-8f1890d4926c')\"\n",
              "            title=\"Convert this dataframe to an interactive table.\"\n",
              "            style=\"display:none;\">\n",
              "\n",
              "  <svg xmlns=\"http://www.w3.org/2000/svg\" height=\"24px\" viewBox=\"0 -960 960 960\">\n",
              "    <path d=\"M120-120v-720h720v720H120Zm60-500h600v-160H180v160Zm220 220h160v-160H400v160Zm0 220h160v-160H400v160ZM180-400h160v-160H180v160Zm440 0h160v-160H620v160ZM180-180h160v-160H180v160Zm440 0h160v-160H620v160Z\"/>\n",
              "  </svg>\n",
              "    </button>\n",
              "\n",
              "  <style>\n",
              "    .colab-df-container {\n",
              "      display:flex;\n",
              "      gap: 12px;\n",
              "    }\n",
              "\n",
              "    .colab-df-convert {\n",
              "      background-color: #E8F0FE;\n",
              "      border: none;\n",
              "      border-radius: 50%;\n",
              "      cursor: pointer;\n",
              "      display: none;\n",
              "      fill: #1967D2;\n",
              "      height: 32px;\n",
              "      padding: 0 0 0 0;\n",
              "      width: 32px;\n",
              "    }\n",
              "\n",
              "    .colab-df-convert:hover {\n",
              "      background-color: #E2EBFA;\n",
              "      box-shadow: 0px 1px 2px rgba(60, 64, 67, 0.3), 0px 1px 3px 1px rgba(60, 64, 67, 0.15);\n",
              "      fill: #174EA6;\n",
              "    }\n",
              "\n",
              "    .colab-df-buttons div {\n",
              "      margin-bottom: 4px;\n",
              "    }\n",
              "\n",
              "    [theme=dark] .colab-df-convert {\n",
              "      background-color: #3B4455;\n",
              "      fill: #D2E3FC;\n",
              "    }\n",
              "\n",
              "    [theme=dark] .colab-df-convert:hover {\n",
              "      background-color: #434B5C;\n",
              "      box-shadow: 0px 1px 3px 1px rgba(0, 0, 0, 0.15);\n",
              "      filter: drop-shadow(0px 1px 2px rgba(0, 0, 0, 0.3));\n",
              "      fill: #FFFFFF;\n",
              "    }\n",
              "  </style>\n",
              "\n",
              "    <script>\n",
              "      const buttonEl =\n",
              "        document.querySelector('#df-7eff2d02-9ed7-4472-85b6-8f1890d4926c button.colab-df-convert');\n",
              "      buttonEl.style.display =\n",
              "        google.colab.kernel.accessAllowed ? 'block' : 'none';\n",
              "\n",
              "      async function convertToInteractive(key) {\n",
              "        const element = document.querySelector('#df-7eff2d02-9ed7-4472-85b6-8f1890d4926c');\n",
              "        const dataTable =\n",
              "          await google.colab.kernel.invokeFunction('convertToInteractive',\n",
              "                                                    [key], {});\n",
              "        if (!dataTable) return;\n",
              "\n",
              "        const docLinkHtml = 'Like what you see? Visit the ' +\n",
              "          '<a target=\"_blank\" href=https://colab.research.google.com/notebooks/data_table.ipynb>data table notebook</a>'\n",
              "          + ' to learn more about interactive tables.';\n",
              "        element.innerHTML = '';\n",
              "        dataTable['output_type'] = 'display_data';\n",
              "        await google.colab.output.renderOutput(dataTable, element);\n",
              "        const docLink = document.createElement('div');\n",
              "        docLink.innerHTML = docLinkHtml;\n",
              "        element.appendChild(docLink);\n",
              "      }\n",
              "    </script>\n",
              "  </div>\n",
              "\n",
              "\n",
              "<div id=\"df-d2834e52-bb2f-4430-b966-f61938a57f23\">\n",
              "  <button class=\"colab-df-quickchart\" onclick=\"quickchart('df-d2834e52-bb2f-4430-b966-f61938a57f23')\"\n",
              "            title=\"Suggest charts.\"\n",
              "            style=\"display:none;\">\n",
              "\n",
              "<svg xmlns=\"http://www.w3.org/2000/svg\" height=\"24px\"viewBox=\"0 0 24 24\"\n",
              "     width=\"24px\">\n",
              "    <g>\n",
              "        <path d=\"M19 3H5c-1.1 0-2 .9-2 2v14c0 1.1.9 2 2 2h14c1.1 0 2-.9 2-2V5c0-1.1-.9-2-2-2zM9 17H7v-7h2v7zm4 0h-2V7h2v10zm4 0h-2v-4h2v4z\"/>\n",
              "    </g>\n",
              "</svg>\n",
              "  </button>\n",
              "\n",
              "<style>\n",
              "  .colab-df-quickchart {\n",
              "    background-color: #E8F0FE;\n",
              "    border: none;\n",
              "    border-radius: 50%;\n",
              "    cursor: pointer;\n",
              "    display: none;\n",
              "    fill: #1967D2;\n",
              "    height: 32px;\n",
              "    padding: 0 0 0 0;\n",
              "    width: 32px;\n",
              "  }\n",
              "\n",
              "  .colab-df-quickchart:hover {\n",
              "    background-color: #E2EBFA;\n",
              "    box-shadow: 0px 1px 2px rgba(60, 64, 67, 0.3), 0px 1px 3px 1px rgba(60, 64, 67, 0.15);\n",
              "    fill: #174EA6;\n",
              "  }\n",
              "\n",
              "  [theme=dark] .colab-df-quickchart {\n",
              "    background-color: #3B4455;\n",
              "    fill: #D2E3FC;\n",
              "  }\n",
              "\n",
              "  [theme=dark] .colab-df-quickchart:hover {\n",
              "    background-color: #434B5C;\n",
              "    box-shadow: 0px 1px 3px 1px rgba(0, 0, 0, 0.15);\n",
              "    filter: drop-shadow(0px 1px 2px rgba(0, 0, 0, 0.3));\n",
              "    fill: #FFFFFF;\n",
              "  }\n",
              "</style>\n",
              "\n",
              "  <script>\n",
              "    async function quickchart(key) {\n",
              "      const charts = await google.colab.kernel.invokeFunction(\n",
              "          'suggestCharts', [key], {});\n",
              "    }\n",
              "    (() => {\n",
              "      let quickchartButtonEl =\n",
              "        document.querySelector('#df-d2834e52-bb2f-4430-b966-f61938a57f23 button');\n",
              "      quickchartButtonEl.style.display =\n",
              "        google.colab.kernel.accessAllowed ? 'block' : 'none';\n",
              "    })();\n",
              "  </script>\n",
              "</div>\n",
              "    </div>\n",
              "  </div>\n"
            ]
          },
          "metadata": {},
          "execution_count": 7
        }
      ],
      "source": [
        "df1.head()"
      ],
      "id": "e737e6db"
    },
    {
      "cell_type": "code",
      "execution_count": null,
      "metadata": {
        "colab": {
          "base_uri": "https://localhost:8080/"
        },
        "id": "f90b48ba",
        "outputId": "ed70d34b-4bae-4f23-cf1a-8a8d9c41453b"
      },
      "outputs": [
        {
          "output_type": "execute_result",
          "data": {
            "text/plain": [
              "(722723, 20)"
            ]
          },
          "metadata": {},
          "execution_count": 8
        }
      ],
      "source": [
        "df1.shape"
      ],
      "id": "f90b48ba"
    },
    {
      "cell_type": "code",
      "source": [
        "df1.isnull().sum()"
      ],
      "metadata": {
        "colab": {
          "base_uri": "https://localhost:8080/"
        },
        "id": "sWytWBfYaF7J",
        "outputId": "cd87a956-5b47-42a9-e76d-f0b2b7c9e9fb"
      },
      "id": "sWytWBfYaF7J",
      "execution_count": null,
      "outputs": [
        {
          "output_type": "execute_result",
          "data": {
            "text/plain": [
              "id                           0\n",
              "title                        4\n",
              "genres                  210754\n",
              "original_language            0\n",
              "overview                118543\n",
              "popularity                   0\n",
              "production_companies    385525\n",
              "release_date             52282\n",
              "budget                       0\n",
              "revenue                      0\n",
              "runtime                  34433\n",
              "status                       0\n",
              "tagline                 614567\n",
              "vote_average                 0\n",
              "vote_count                   0\n",
              "credits                 225039\n",
              "keywords                512395\n",
              "poster_path             185105\n",
              "backdrop_path           500090\n",
              "recommendations         687945\n",
              "dtype: int64"
            ]
          },
          "metadata": {},
          "execution_count": 9
        }
      ]
    },
    {
      "cell_type": "code",
      "source": [
        "df1.duplicated().sum()"
      ],
      "metadata": {
        "colab": {
          "base_uri": "https://localhost:8080/"
        },
        "id": "0r-MWD9CaMH7",
        "outputId": "9c691d7d-cfe5-4161-c93f-178eefdbcf17"
      },
      "id": "0r-MWD9CaMH7",
      "execution_count": null,
      "outputs": [
        {
          "output_type": "execute_result",
          "data": {
            "text/plain": [
              "1"
            ]
          },
          "metadata": {},
          "execution_count": 10
        }
      ]
    },
    {
      "cell_type": "code",
      "source": [
        "df = df1.drop([\"production_companies\", \"popularity\", \"budget\", \"revenue\", \"status\", \"recommendations\", \"runtime\", \"vote_average\", \"backdrop_path\", \"tagline\"], axis=1)"
      ],
      "metadata": {
        "id": "SkcymE_-aXbZ"
      },
      "id": "SkcymE_-aXbZ",
      "execution_count": null,
      "outputs": []
    },
    {
      "cell_type": "code",
      "source": [
        "df.drop_duplicates(inplace=True)"
      ],
      "metadata": {
        "id": "lelfRP3jagp8"
      },
      "id": "lelfRP3jagp8",
      "execution_count": null,
      "outputs": []
    },
    {
      "cell_type": "code",
      "source": [
        "df.title.duplicated().sum()"
      ],
      "metadata": {
        "colab": {
          "base_uri": "https://localhost:8080/"
        },
        "id": "Xbwgz5DhalFl",
        "outputId": "b50e4d8d-e290-40f1-a792-0296556f5fcc"
      },
      "id": "Xbwgz5DhalFl",
      "execution_count": null,
      "outputs": [
        {
          "output_type": "execute_result",
          "data": {
            "text/plain": [
              "86993"
            ]
          },
          "metadata": {},
          "execution_count": 13
        }
      ]
    },
    {
      "cell_type": "code",
      "source": [
        "df[[\"title\", \"release_date\"]].duplicated().sum()"
      ],
      "metadata": {
        "colab": {
          "base_uri": "https://localhost:8080/"
        },
        "id": "0jGVO39cap_X",
        "outputId": "fb629a8f-6e2a-45c1-b47f-ed2d9e708a2c"
      },
      "id": "0jGVO39cap_X",
      "execution_count": null,
      "outputs": [
        {
          "output_type": "execute_result",
          "data": {
            "text/plain": [
              "2239"
            ]
          },
          "metadata": {},
          "execution_count": 14
        }
      ]
    },
    {
      "cell_type": "code",
      "source": [
        "df.drop_duplicates(subset=[\"title\",\"release_date\"], inplace=True)"
      ],
      "metadata": {
        "id": "KRqwFCeKaypT"
      },
      "id": "KRqwFCeKaypT",
      "execution_count": null,
      "outputs": []
    },
    {
      "cell_type": "code",
      "source": [
        "df = df[df.vote_count >= 75].reset_index()"
      ],
      "metadata": {
        "id": "K69vPQ8AGhHb"
      },
      "id": "K69vPQ8AGhHb",
      "execution_count": null,
      "outputs": []
    },
    {
      "cell_type": "code",
      "source": [
        "df.head()"
      ],
      "metadata": {
        "colab": {
          "base_uri": "https://localhost:8080/",
          "height": 694
        },
        "id": "fpuheqP8HO51",
        "outputId": "78e9287a-2a2b-4aea-9b35-c8497363ad43"
      },
      "id": "fpuheqP8HO51",
      "execution_count": null,
      "outputs": [
        {
          "output_type": "execute_result",
          "data": {
            "text/plain": [
              "   index      id                              title  \\\n",
              "0      0  758323                The Pope's Exorcist   \n",
              "1      1  667538   Transformers: Rise of the Beasts   \n",
              "2      2  640146  Ant-Man and the Wasp: Quantumania   \n",
              "3      3  677179                          Creed III   \n",
              "4      4  614479            Insidious: The Red Door   \n",
              "\n",
              "                             genres original_language  \\\n",
              "0           Horror-Mystery-Thriller                en   \n",
              "1  Action-Adventure-Science Fiction                en   \n",
              "2  Action-Adventure-Science Fiction                en   \n",
              "3                      Drama-Action                en   \n",
              "4           Horror-Mystery-Thriller                en   \n",
              "\n",
              "                                            overview release_date  vote_count  \\\n",
              "0  Father Gabriele Amorth Chief Exorcist of the V...   2023-04-05       545.0   \n",
              "1  When a new threat capable of destroying the en...   2023-06-06      1007.0   \n",
              "2  Super-Hero partners Scott Lang and Hope van Dy...   2023-02-15      2811.0   \n",
              "3  After dominating the boxing world Adonis Creed...   2023-03-01      1129.0   \n",
              "4  To put their demons to rest once and for all J...   2023-07-05       564.0   \n",
              "\n",
              "                                             credits  \\\n",
              "0  Russell Crowe-Daniel Zovatto-Alex Essoe-Franco...   \n",
              "1  Anthony Ramos-Dominique Fishback-Luna Lauren V...   \n",
              "2  Paul Rudd-Evangeline Lilly-Jonathan Majors-Kat...   \n",
              "3  Michael B. Jordan-Tessa Thompson-Jonathan Majo...   \n",
              "4  Ty Simpkins-Patrick Wilson-Sinclair Daniel-Ros...   \n",
              "\n",
              "                                            keywords  \\\n",
              "0  spain-rome italy-vatican-pope-pig-possession-c...   \n",
              "1  peru-alien-end of the world-based on cartoon-b...   \n",
              "2  hero-ant-sequel-superhero-based on comic-famil...   \n",
              "3  philadelphia pennsylvania-husband wife relatio...   \n",
              "4  sequel-demon-franchise-insidious-supernatural ...   \n",
              "\n",
              "                        poster_path  \n",
              "0  /9JBEPLTPSm0d1mbEcLxULjJq9Eh.jpg  \n",
              "1  /gPbM0MK8CP8A174rmUwGsADNYKD.jpg  \n",
              "2  /qnqGbB22YJ7dSs4o6M7exTpNxPz.jpg  \n",
              "3  /cvsXj3I9Q2iyyIo95AecSd1tad7.jpg  \n",
              "4  /azTC5osYiqei1ofw6Z3GmUrxQbi.jpg  "
            ],
            "text/html": [
              "\n",
              "  <div id=\"df-fa0a2a0d-2417-47c9-ac45-f7e7c2496198\" class=\"colab-df-container\">\n",
              "    <div>\n",
              "<style scoped>\n",
              "    .dataframe tbody tr th:only-of-type {\n",
              "        vertical-align: middle;\n",
              "    }\n",
              "\n",
              "    .dataframe tbody tr th {\n",
              "        vertical-align: top;\n",
              "    }\n",
              "\n",
              "    .dataframe thead th {\n",
              "        text-align: right;\n",
              "    }\n",
              "</style>\n",
              "<table border=\"1\" class=\"dataframe\">\n",
              "  <thead>\n",
              "    <tr style=\"text-align: right;\">\n",
              "      <th></th>\n",
              "      <th>index</th>\n",
              "      <th>id</th>\n",
              "      <th>title</th>\n",
              "      <th>genres</th>\n",
              "      <th>original_language</th>\n",
              "      <th>overview</th>\n",
              "      <th>release_date</th>\n",
              "      <th>vote_count</th>\n",
              "      <th>credits</th>\n",
              "      <th>keywords</th>\n",
              "      <th>poster_path</th>\n",
              "    </tr>\n",
              "  </thead>\n",
              "  <tbody>\n",
              "    <tr>\n",
              "      <th>0</th>\n",
              "      <td>0</td>\n",
              "      <td>758323</td>\n",
              "      <td>The Pope's Exorcist</td>\n",
              "      <td>Horror-Mystery-Thriller</td>\n",
              "      <td>en</td>\n",
              "      <td>Father Gabriele Amorth Chief Exorcist of the V...</td>\n",
              "      <td>2023-04-05</td>\n",
              "      <td>545.0</td>\n",
              "      <td>Russell Crowe-Daniel Zovatto-Alex Essoe-Franco...</td>\n",
              "      <td>spain-rome italy-vatican-pope-pig-possession-c...</td>\n",
              "      <td>/9JBEPLTPSm0d1mbEcLxULjJq9Eh.jpg</td>\n",
              "    </tr>\n",
              "    <tr>\n",
              "      <th>1</th>\n",
              "      <td>1</td>\n",
              "      <td>667538</td>\n",
              "      <td>Transformers: Rise of the Beasts</td>\n",
              "      <td>Action-Adventure-Science Fiction</td>\n",
              "      <td>en</td>\n",
              "      <td>When a new threat capable of destroying the en...</td>\n",
              "      <td>2023-06-06</td>\n",
              "      <td>1007.0</td>\n",
              "      <td>Anthony Ramos-Dominique Fishback-Luna Lauren V...</td>\n",
              "      <td>peru-alien-end of the world-based on cartoon-b...</td>\n",
              "      <td>/gPbM0MK8CP8A174rmUwGsADNYKD.jpg</td>\n",
              "    </tr>\n",
              "    <tr>\n",
              "      <th>2</th>\n",
              "      <td>2</td>\n",
              "      <td>640146</td>\n",
              "      <td>Ant-Man and the Wasp: Quantumania</td>\n",
              "      <td>Action-Adventure-Science Fiction</td>\n",
              "      <td>en</td>\n",
              "      <td>Super-Hero partners Scott Lang and Hope van Dy...</td>\n",
              "      <td>2023-02-15</td>\n",
              "      <td>2811.0</td>\n",
              "      <td>Paul Rudd-Evangeline Lilly-Jonathan Majors-Kat...</td>\n",
              "      <td>hero-ant-sequel-superhero-based on comic-famil...</td>\n",
              "      <td>/qnqGbB22YJ7dSs4o6M7exTpNxPz.jpg</td>\n",
              "    </tr>\n",
              "    <tr>\n",
              "      <th>3</th>\n",
              "      <td>3</td>\n",
              "      <td>677179</td>\n",
              "      <td>Creed III</td>\n",
              "      <td>Drama-Action</td>\n",
              "      <td>en</td>\n",
              "      <td>After dominating the boxing world Adonis Creed...</td>\n",
              "      <td>2023-03-01</td>\n",
              "      <td>1129.0</td>\n",
              "      <td>Michael B. Jordan-Tessa Thompson-Jonathan Majo...</td>\n",
              "      <td>philadelphia pennsylvania-husband wife relatio...</td>\n",
              "      <td>/cvsXj3I9Q2iyyIo95AecSd1tad7.jpg</td>\n",
              "    </tr>\n",
              "    <tr>\n",
              "      <th>4</th>\n",
              "      <td>4</td>\n",
              "      <td>614479</td>\n",
              "      <td>Insidious: The Red Door</td>\n",
              "      <td>Horror-Mystery-Thriller</td>\n",
              "      <td>en</td>\n",
              "      <td>To put their demons to rest once and for all J...</td>\n",
              "      <td>2023-07-05</td>\n",
              "      <td>564.0</td>\n",
              "      <td>Ty Simpkins-Patrick Wilson-Sinclair Daniel-Ros...</td>\n",
              "      <td>sequel-demon-franchise-insidious-supernatural ...</td>\n",
              "      <td>/azTC5osYiqei1ofw6Z3GmUrxQbi.jpg</td>\n",
              "    </tr>\n",
              "  </tbody>\n",
              "</table>\n",
              "</div>\n",
              "    <div class=\"colab-df-buttons\">\n",
              "\n",
              "  <div class=\"colab-df-container\">\n",
              "    <button class=\"colab-df-convert\" onclick=\"convertToInteractive('df-fa0a2a0d-2417-47c9-ac45-f7e7c2496198')\"\n",
              "            title=\"Convert this dataframe to an interactive table.\"\n",
              "            style=\"display:none;\">\n",
              "\n",
              "  <svg xmlns=\"http://www.w3.org/2000/svg\" height=\"24px\" viewBox=\"0 -960 960 960\">\n",
              "    <path d=\"M120-120v-720h720v720H120Zm60-500h600v-160H180v160Zm220 220h160v-160H400v160Zm0 220h160v-160H400v160ZM180-400h160v-160H180v160Zm440 0h160v-160H620v160ZM180-180h160v-160H180v160Zm440 0h160v-160H620v160Z\"/>\n",
              "  </svg>\n",
              "    </button>\n",
              "\n",
              "  <style>\n",
              "    .colab-df-container {\n",
              "      display:flex;\n",
              "      gap: 12px;\n",
              "    }\n",
              "\n",
              "    .colab-df-convert {\n",
              "      background-color: #E8F0FE;\n",
              "      border: none;\n",
              "      border-radius: 50%;\n",
              "      cursor: pointer;\n",
              "      display: none;\n",
              "      fill: #1967D2;\n",
              "      height: 32px;\n",
              "      padding: 0 0 0 0;\n",
              "      width: 32px;\n",
              "    }\n",
              "\n",
              "    .colab-df-convert:hover {\n",
              "      background-color: #E2EBFA;\n",
              "      box-shadow: 0px 1px 2px rgba(60, 64, 67, 0.3), 0px 1px 3px 1px rgba(60, 64, 67, 0.15);\n",
              "      fill: #174EA6;\n",
              "    }\n",
              "\n",
              "    .colab-df-buttons div {\n",
              "      margin-bottom: 4px;\n",
              "    }\n",
              "\n",
              "    [theme=dark] .colab-df-convert {\n",
              "      background-color: #3B4455;\n",
              "      fill: #D2E3FC;\n",
              "    }\n",
              "\n",
              "    [theme=dark] .colab-df-convert:hover {\n",
              "      background-color: #434B5C;\n",
              "      box-shadow: 0px 1px 3px 1px rgba(0, 0, 0, 0.15);\n",
              "      filter: drop-shadow(0px 1px 2px rgba(0, 0, 0, 0.3));\n",
              "      fill: #FFFFFF;\n",
              "    }\n",
              "  </style>\n",
              "\n",
              "    <script>\n",
              "      const buttonEl =\n",
              "        document.querySelector('#df-fa0a2a0d-2417-47c9-ac45-f7e7c2496198 button.colab-df-convert');\n",
              "      buttonEl.style.display =\n",
              "        google.colab.kernel.accessAllowed ? 'block' : 'none';\n",
              "\n",
              "      async function convertToInteractive(key) {\n",
              "        const element = document.querySelector('#df-fa0a2a0d-2417-47c9-ac45-f7e7c2496198');\n",
              "        const dataTable =\n",
              "          await google.colab.kernel.invokeFunction('convertToInteractive',\n",
              "                                                    [key], {});\n",
              "        if (!dataTable) return;\n",
              "\n",
              "        const docLinkHtml = 'Like what you see? Visit the ' +\n",
              "          '<a target=\"_blank\" href=https://colab.research.google.com/notebooks/data_table.ipynb>data table notebook</a>'\n",
              "          + ' to learn more about interactive tables.';\n",
              "        element.innerHTML = '';\n",
              "        dataTable['output_type'] = 'display_data';\n",
              "        await google.colab.output.renderOutput(dataTable, element);\n",
              "        const docLink = document.createElement('div');\n",
              "        docLink.innerHTML = docLinkHtml;\n",
              "        element.appendChild(docLink);\n",
              "      }\n",
              "    </script>\n",
              "  </div>\n",
              "\n",
              "\n",
              "<div id=\"df-31f98a07-9213-486f-9d4d-0ab1e7461e58\">\n",
              "  <button class=\"colab-df-quickchart\" onclick=\"quickchart('df-31f98a07-9213-486f-9d4d-0ab1e7461e58')\"\n",
              "            title=\"Suggest charts.\"\n",
              "            style=\"display:none;\">\n",
              "\n",
              "<svg xmlns=\"http://www.w3.org/2000/svg\" height=\"24px\"viewBox=\"0 0 24 24\"\n",
              "     width=\"24px\">\n",
              "    <g>\n",
              "        <path d=\"M19 3H5c-1.1 0-2 .9-2 2v14c0 1.1.9 2 2 2h14c1.1 0 2-.9 2-2V5c0-1.1-.9-2-2-2zM9 17H7v-7h2v7zm4 0h-2V7h2v10zm4 0h-2v-4h2v4z\"/>\n",
              "    </g>\n",
              "</svg>\n",
              "  </button>\n",
              "\n",
              "<style>\n",
              "  .colab-df-quickchart {\n",
              "    background-color: #E8F0FE;\n",
              "    border: none;\n",
              "    border-radius: 50%;\n",
              "    cursor: pointer;\n",
              "    display: none;\n",
              "    fill: #1967D2;\n",
              "    height: 32px;\n",
              "    padding: 0 0 0 0;\n",
              "    width: 32px;\n",
              "  }\n",
              "\n",
              "  .colab-df-quickchart:hover {\n",
              "    background-color: #E2EBFA;\n",
              "    box-shadow: 0px 1px 2px rgba(60, 64, 67, 0.3), 0px 1px 3px 1px rgba(60, 64, 67, 0.15);\n",
              "    fill: #174EA6;\n",
              "  }\n",
              "\n",
              "  [theme=dark] .colab-df-quickchart {\n",
              "    background-color: #3B4455;\n",
              "    fill: #D2E3FC;\n",
              "  }\n",
              "\n",
              "  [theme=dark] .colab-df-quickchart:hover {\n",
              "    background-color: #434B5C;\n",
              "    box-shadow: 0px 1px 3px 1px rgba(0, 0, 0, 0.15);\n",
              "    filter: drop-shadow(0px 1px 2px rgba(0, 0, 0, 0.3));\n",
              "    fill: #FFFFFF;\n",
              "  }\n",
              "</style>\n",
              "\n",
              "  <script>\n",
              "    async function quickchart(key) {\n",
              "      const charts = await google.colab.kernel.invokeFunction(\n",
              "          'suggestCharts', [key], {});\n",
              "    }\n",
              "    (() => {\n",
              "      let quickchartButtonEl =\n",
              "        document.querySelector('#df-31f98a07-9213-486f-9d4d-0ab1e7461e58 button');\n",
              "      quickchartButtonEl.style.display =\n",
              "        google.colab.kernel.accessAllowed ? 'block' : 'none';\n",
              "    })();\n",
              "  </script>\n",
              "</div>\n",
              "    </div>\n",
              "  </div>\n"
            ]
          },
          "metadata": {},
          "execution_count": 17
        }
      ]
    },
    {
      "cell_type": "code",
      "source": [
        "df.shape"
      ],
      "metadata": {
        "colab": {
          "base_uri": "https://localhost:8080/"
        },
        "id": "fAgs5NtKHUPn",
        "outputId": "f5033740-2323-42e9-eb7d-2f1694285c4d"
      },
      "id": "fAgs5NtKHUPn",
      "execution_count": null,
      "outputs": [
        {
          "output_type": "execute_result",
          "data": {
            "text/plain": [
              "(20048, 11)"
            ]
          },
          "metadata": {},
          "execution_count": 18
        }
      ]
    },
    {
      "cell_type": "code",
      "source": [
        "df.isnull().sum()"
      ],
      "metadata": {
        "colab": {
          "base_uri": "https://localhost:8080/"
        },
        "id": "8nDd_GKAbUV-",
        "outputId": "d2ad7e4f-b4ed-4e61-de96-3616cf0624d4"
      },
      "id": "8nDd_GKAbUV-",
      "execution_count": null,
      "outputs": [
        {
          "output_type": "execute_result",
          "data": {
            "text/plain": [
              "index                   0\n",
              "id                      0\n",
              "title                   0\n",
              "genres                  6\n",
              "original_language       0\n",
              "overview               57\n",
              "release_date            0\n",
              "vote_count              0\n",
              "credits                70\n",
              "keywords             2380\n",
              "poster_path             4\n",
              "dtype: int64"
            ]
          },
          "metadata": {},
          "execution_count": 19
        }
      ]
    },
    {
      "cell_type": "code",
      "execution_count": null,
      "metadata": {
        "id": "b1c0dd8e"
      },
      "outputs": [],
      "source": [
        "df.fillna('',inplace=True)\n",
        "null_value=df[(df['genres']=='') & (df['overview']=='')].index\n",
        "df.drop(null_value,inplace=True)"
      ],
      "id": "b1c0dd8e"
    },
    {
      "cell_type": "code",
      "execution_count": null,
      "metadata": {
        "colab": {
          "base_uri": "https://localhost:8080/"
        },
        "id": "2ed4d3e9",
        "outputId": "4db49ab4-8b3a-4bf6-de2f-905467e376da"
      },
      "outputs": [
        {
          "output_type": "execute_result",
          "data": {
            "text/plain": [
              "en    13851\n",
              "fr     1697\n",
              "it     1003\n",
              "ja      711\n",
              "es      607\n",
              "      ...  \n",
              "la        1\n",
              "dz        1\n",
              "km        1\n",
              "nb        1\n",
              "ps        1\n",
              "Name: original_language, Length: 64, dtype: int64"
            ]
          },
          "metadata": {},
          "execution_count": 21
        }
      ],
      "source": [
        "df['original_language'].value_counts()"
      ],
      "id": "2ed4d3e9"
    },
    {
      "cell_type": "code",
      "execution_count": null,
      "metadata": {
        "id": "1065f729"
      },
      "outputs": [],
      "source": [
        "df = df[['id','title','original_language','overview','genres','keywords','credits']]"
      ],
      "id": "1065f729"
    },
    {
      "cell_type": "code",
      "execution_count": null,
      "metadata": {
        "colab": {
          "base_uri": "https://localhost:8080/",
          "height": 379
        },
        "id": "74f899a3",
        "outputId": "c271117a-c704-451f-ef56-c93e9123ec16"
      },
      "outputs": [
        {
          "output_type": "execute_result",
          "data": {
            "text/plain": [
              "       id                              title original_language  \\\n",
              "0  758323                The Pope's Exorcist                en   \n",
              "1  667538   Transformers: Rise of the Beasts                en   \n",
              "2  640146  Ant-Man and the Wasp: Quantumania                en   \n",
              "3  677179                          Creed III                en   \n",
              "4  614479            Insidious: The Red Door                en   \n",
              "\n",
              "                                            overview  \\\n",
              "0  Father Gabriele Amorth Chief Exorcist of the V...   \n",
              "1  When a new threat capable of destroying the en...   \n",
              "2  Super-Hero partners Scott Lang and Hope van Dy...   \n",
              "3  After dominating the boxing world Adonis Creed...   \n",
              "4  To put their demons to rest once and for all J...   \n",
              "\n",
              "                             genres  \\\n",
              "0           Horror-Mystery-Thriller   \n",
              "1  Action-Adventure-Science Fiction   \n",
              "2  Action-Adventure-Science Fiction   \n",
              "3                      Drama-Action   \n",
              "4           Horror-Mystery-Thriller   \n",
              "\n",
              "                                            keywords  \\\n",
              "0  spain-rome italy-vatican-pope-pig-possession-c...   \n",
              "1  peru-alien-end of the world-based on cartoon-b...   \n",
              "2  hero-ant-sequel-superhero-based on comic-famil...   \n",
              "3  philadelphia pennsylvania-husband wife relatio...   \n",
              "4  sequel-demon-franchise-insidious-supernatural ...   \n",
              "\n",
              "                                             credits  \n",
              "0  Russell Crowe-Daniel Zovatto-Alex Essoe-Franco...  \n",
              "1  Anthony Ramos-Dominique Fishback-Luna Lauren V...  \n",
              "2  Paul Rudd-Evangeline Lilly-Jonathan Majors-Kat...  \n",
              "3  Michael B. Jordan-Tessa Thompson-Jonathan Majo...  \n",
              "4  Ty Simpkins-Patrick Wilson-Sinclair Daniel-Ros...  "
            ],
            "text/html": [
              "\n",
              "  <div id=\"df-70180bae-3fa8-4d2f-b03b-c3ace1a549a8\" class=\"colab-df-container\">\n",
              "    <div>\n",
              "<style scoped>\n",
              "    .dataframe tbody tr th:only-of-type {\n",
              "        vertical-align: middle;\n",
              "    }\n",
              "\n",
              "    .dataframe tbody tr th {\n",
              "        vertical-align: top;\n",
              "    }\n",
              "\n",
              "    .dataframe thead th {\n",
              "        text-align: right;\n",
              "    }\n",
              "</style>\n",
              "<table border=\"1\" class=\"dataframe\">\n",
              "  <thead>\n",
              "    <tr style=\"text-align: right;\">\n",
              "      <th></th>\n",
              "      <th>id</th>\n",
              "      <th>title</th>\n",
              "      <th>original_language</th>\n",
              "      <th>overview</th>\n",
              "      <th>genres</th>\n",
              "      <th>keywords</th>\n",
              "      <th>credits</th>\n",
              "    </tr>\n",
              "  </thead>\n",
              "  <tbody>\n",
              "    <tr>\n",
              "      <th>0</th>\n",
              "      <td>758323</td>\n",
              "      <td>The Pope's Exorcist</td>\n",
              "      <td>en</td>\n",
              "      <td>Father Gabriele Amorth Chief Exorcist of the V...</td>\n",
              "      <td>Horror-Mystery-Thriller</td>\n",
              "      <td>spain-rome italy-vatican-pope-pig-possession-c...</td>\n",
              "      <td>Russell Crowe-Daniel Zovatto-Alex Essoe-Franco...</td>\n",
              "    </tr>\n",
              "    <tr>\n",
              "      <th>1</th>\n",
              "      <td>667538</td>\n",
              "      <td>Transformers: Rise of the Beasts</td>\n",
              "      <td>en</td>\n",
              "      <td>When a new threat capable of destroying the en...</td>\n",
              "      <td>Action-Adventure-Science Fiction</td>\n",
              "      <td>peru-alien-end of the world-based on cartoon-b...</td>\n",
              "      <td>Anthony Ramos-Dominique Fishback-Luna Lauren V...</td>\n",
              "    </tr>\n",
              "    <tr>\n",
              "      <th>2</th>\n",
              "      <td>640146</td>\n",
              "      <td>Ant-Man and the Wasp: Quantumania</td>\n",
              "      <td>en</td>\n",
              "      <td>Super-Hero partners Scott Lang and Hope van Dy...</td>\n",
              "      <td>Action-Adventure-Science Fiction</td>\n",
              "      <td>hero-ant-sequel-superhero-based on comic-famil...</td>\n",
              "      <td>Paul Rudd-Evangeline Lilly-Jonathan Majors-Kat...</td>\n",
              "    </tr>\n",
              "    <tr>\n",
              "      <th>3</th>\n",
              "      <td>677179</td>\n",
              "      <td>Creed III</td>\n",
              "      <td>en</td>\n",
              "      <td>After dominating the boxing world Adonis Creed...</td>\n",
              "      <td>Drama-Action</td>\n",
              "      <td>philadelphia pennsylvania-husband wife relatio...</td>\n",
              "      <td>Michael B. Jordan-Tessa Thompson-Jonathan Majo...</td>\n",
              "    </tr>\n",
              "    <tr>\n",
              "      <th>4</th>\n",
              "      <td>614479</td>\n",
              "      <td>Insidious: The Red Door</td>\n",
              "      <td>en</td>\n",
              "      <td>To put their demons to rest once and for all J...</td>\n",
              "      <td>Horror-Mystery-Thriller</td>\n",
              "      <td>sequel-demon-franchise-insidious-supernatural ...</td>\n",
              "      <td>Ty Simpkins-Patrick Wilson-Sinclair Daniel-Ros...</td>\n",
              "    </tr>\n",
              "  </tbody>\n",
              "</table>\n",
              "</div>\n",
              "    <div class=\"colab-df-buttons\">\n",
              "\n",
              "  <div class=\"colab-df-container\">\n",
              "    <button class=\"colab-df-convert\" onclick=\"convertToInteractive('df-70180bae-3fa8-4d2f-b03b-c3ace1a549a8')\"\n",
              "            title=\"Convert this dataframe to an interactive table.\"\n",
              "            style=\"display:none;\">\n",
              "\n",
              "  <svg xmlns=\"http://www.w3.org/2000/svg\" height=\"24px\" viewBox=\"0 -960 960 960\">\n",
              "    <path d=\"M120-120v-720h720v720H120Zm60-500h600v-160H180v160Zm220 220h160v-160H400v160Zm0 220h160v-160H400v160ZM180-400h160v-160H180v160Zm440 0h160v-160H620v160ZM180-180h160v-160H180v160Zm440 0h160v-160H620v160Z\"/>\n",
              "  </svg>\n",
              "    </button>\n",
              "\n",
              "  <style>\n",
              "    .colab-df-container {\n",
              "      display:flex;\n",
              "      gap: 12px;\n",
              "    }\n",
              "\n",
              "    .colab-df-convert {\n",
              "      background-color: #E8F0FE;\n",
              "      border: none;\n",
              "      border-radius: 50%;\n",
              "      cursor: pointer;\n",
              "      display: none;\n",
              "      fill: #1967D2;\n",
              "      height: 32px;\n",
              "      padding: 0 0 0 0;\n",
              "      width: 32px;\n",
              "    }\n",
              "\n",
              "    .colab-df-convert:hover {\n",
              "      background-color: #E2EBFA;\n",
              "      box-shadow: 0px 1px 2px rgba(60, 64, 67, 0.3), 0px 1px 3px 1px rgba(60, 64, 67, 0.15);\n",
              "      fill: #174EA6;\n",
              "    }\n",
              "\n",
              "    .colab-df-buttons div {\n",
              "      margin-bottom: 4px;\n",
              "    }\n",
              "\n",
              "    [theme=dark] .colab-df-convert {\n",
              "      background-color: #3B4455;\n",
              "      fill: #D2E3FC;\n",
              "    }\n",
              "\n",
              "    [theme=dark] .colab-df-convert:hover {\n",
              "      background-color: #434B5C;\n",
              "      box-shadow: 0px 1px 3px 1px rgba(0, 0, 0, 0.15);\n",
              "      filter: drop-shadow(0px 1px 2px rgba(0, 0, 0, 0.3));\n",
              "      fill: #FFFFFF;\n",
              "    }\n",
              "  </style>\n",
              "\n",
              "    <script>\n",
              "      const buttonEl =\n",
              "        document.querySelector('#df-70180bae-3fa8-4d2f-b03b-c3ace1a549a8 button.colab-df-convert');\n",
              "      buttonEl.style.display =\n",
              "        google.colab.kernel.accessAllowed ? 'block' : 'none';\n",
              "\n",
              "      async function convertToInteractive(key) {\n",
              "        const element = document.querySelector('#df-70180bae-3fa8-4d2f-b03b-c3ace1a549a8');\n",
              "        const dataTable =\n",
              "          await google.colab.kernel.invokeFunction('convertToInteractive',\n",
              "                                                    [key], {});\n",
              "        if (!dataTable) return;\n",
              "\n",
              "        const docLinkHtml = 'Like what you see? Visit the ' +\n",
              "          '<a target=\"_blank\" href=https://colab.research.google.com/notebooks/data_table.ipynb>data table notebook</a>'\n",
              "          + ' to learn more about interactive tables.';\n",
              "        element.innerHTML = '';\n",
              "        dataTable['output_type'] = 'display_data';\n",
              "        await google.colab.output.renderOutput(dataTable, element);\n",
              "        const docLink = document.createElement('div');\n",
              "        docLink.innerHTML = docLinkHtml;\n",
              "        element.appendChild(docLink);\n",
              "      }\n",
              "    </script>\n",
              "  </div>\n",
              "\n",
              "\n",
              "<div id=\"df-e025c5aa-eb46-4277-bc48-0c2d977dfefb\">\n",
              "  <button class=\"colab-df-quickchart\" onclick=\"quickchart('df-e025c5aa-eb46-4277-bc48-0c2d977dfefb')\"\n",
              "            title=\"Suggest charts.\"\n",
              "            style=\"display:none;\">\n",
              "\n",
              "<svg xmlns=\"http://www.w3.org/2000/svg\" height=\"24px\"viewBox=\"0 0 24 24\"\n",
              "     width=\"24px\">\n",
              "    <g>\n",
              "        <path d=\"M19 3H5c-1.1 0-2 .9-2 2v14c0 1.1.9 2 2 2h14c1.1 0 2-.9 2-2V5c0-1.1-.9-2-2-2zM9 17H7v-7h2v7zm4 0h-2V7h2v10zm4 0h-2v-4h2v4z\"/>\n",
              "    </g>\n",
              "</svg>\n",
              "  </button>\n",
              "\n",
              "<style>\n",
              "  .colab-df-quickchart {\n",
              "    background-color: #E8F0FE;\n",
              "    border: none;\n",
              "    border-radius: 50%;\n",
              "    cursor: pointer;\n",
              "    display: none;\n",
              "    fill: #1967D2;\n",
              "    height: 32px;\n",
              "    padding: 0 0 0 0;\n",
              "    width: 32px;\n",
              "  }\n",
              "\n",
              "  .colab-df-quickchart:hover {\n",
              "    background-color: #E2EBFA;\n",
              "    box-shadow: 0px 1px 2px rgba(60, 64, 67, 0.3), 0px 1px 3px 1px rgba(60, 64, 67, 0.15);\n",
              "    fill: #174EA6;\n",
              "  }\n",
              "\n",
              "  [theme=dark] .colab-df-quickchart {\n",
              "    background-color: #3B4455;\n",
              "    fill: #D2E3FC;\n",
              "  }\n",
              "\n",
              "  [theme=dark] .colab-df-quickchart:hover {\n",
              "    background-color: #434B5C;\n",
              "    box-shadow: 0px 1px 3px 1px rgba(0, 0, 0, 0.15);\n",
              "    filter: drop-shadow(0px 1px 2px rgba(0, 0, 0, 0.3));\n",
              "    fill: #FFFFFF;\n",
              "  }\n",
              "</style>\n",
              "\n",
              "  <script>\n",
              "    async function quickchart(key) {\n",
              "      const charts = await google.colab.kernel.invokeFunction(\n",
              "          'suggestCharts', [key], {});\n",
              "    }\n",
              "    (() => {\n",
              "      let quickchartButtonEl =\n",
              "        document.querySelector('#df-e025c5aa-eb46-4277-bc48-0c2d977dfefb button');\n",
              "      quickchartButtonEl.style.display =\n",
              "        google.colab.kernel.accessAllowed ? 'block' : 'none';\n",
              "    })();\n",
              "  </script>\n",
              "</div>\n",
              "    </div>\n",
              "  </div>\n"
            ]
          },
          "metadata": {},
          "execution_count": 23
        }
      ],
      "source": [
        "df.head()"
      ],
      "id": "74f899a3"
    },
    {
      "cell_type": "code",
      "execution_count": null,
      "metadata": {
        "colab": {
          "base_uri": "https://localhost:8080/"
        },
        "id": "660e6c6f",
        "outputId": "3f451e89-f56f-4970-ad3b-49a7f38c0dda"
      },
      "outputs": [
        {
          "output_type": "stream",
          "name": "stdout",
          "text": [
            "<class 'pandas.core.frame.DataFrame'>\n",
            "Int64Index: 20045 entries, 0 to 20047\n",
            "Data columns (total 7 columns):\n",
            " #   Column             Non-Null Count  Dtype \n",
            "---  ------             --------------  ----- \n",
            " 0   id                 20045 non-null  int64 \n",
            " 1   title              20045 non-null  object\n",
            " 2   original_language  20045 non-null  object\n",
            " 3   overview           20045 non-null  object\n",
            " 4   genres             20045 non-null  object\n",
            " 5   keywords           20045 non-null  object\n",
            " 6   credits            20045 non-null  object\n",
            "dtypes: int64(1), object(6)\n",
            "memory usage: 1.2+ MB\n"
          ]
        }
      ],
      "source": [
        "df.info()"
      ],
      "id": "660e6c6f"
    },
    {
      "cell_type": "code",
      "execution_count": null,
      "metadata": {
        "colab": {
          "base_uri": "https://localhost:8080/"
        },
        "id": "2f15fd19",
        "outputId": "66a438e3-3c75-42dd-ac7c-537434682c47"
      },
      "outputs": [
        {
          "output_type": "execute_result",
          "data": {
            "text/plain": [
              "id                   0\n",
              "title                0\n",
              "original_language    0\n",
              "overview             0\n",
              "genres               0\n",
              "keywords             0\n",
              "credits              0\n",
              "dtype: int64"
            ]
          },
          "metadata": {},
          "execution_count": 25
        }
      ],
      "source": [
        "df.isnull().sum()"
      ],
      "id": "2f15fd19"
    },
    {
      "cell_type": "code",
      "execution_count": null,
      "metadata": {
        "id": "c3dfc053"
      },
      "outputs": [],
      "source": [
        "df['credits'] = df['credits'].apply(lambda i:' '.join(i.split('-')[:5]))\n",
        "df['genres'] = df['genres'].apply(lambda i:' '.join(i.split('-')))\n",
        "df['keywords'] = df['keywords'].apply(lambda i:' '.join(i.split('-')))"
      ],
      "id": "c3dfc053"
    },
    {
      "cell_type": "code",
      "execution_count": null,
      "metadata": {
        "colab": {
          "base_uri": "https://localhost:8080/",
          "height": 379
        },
        "id": "1a846373",
        "outputId": "abd0cb0d-e83f-4a66-a278-d89c2ce37fae"
      },
      "outputs": [
        {
          "output_type": "execute_result",
          "data": {
            "text/plain": [
              "       id                              title original_language  \\\n",
              "0  758323                The Pope's Exorcist                en   \n",
              "1  667538   Transformers: Rise of the Beasts                en   \n",
              "2  640146  Ant-Man and the Wasp: Quantumania                en   \n",
              "3  677179                          Creed III                en   \n",
              "4  614479            Insidious: The Red Door                en   \n",
              "\n",
              "                                            overview  \\\n",
              "0  Father Gabriele Amorth Chief Exorcist of the V...   \n",
              "1  When a new threat capable of destroying the en...   \n",
              "2  Super-Hero partners Scott Lang and Hope van Dy...   \n",
              "3  After dominating the boxing world Adonis Creed...   \n",
              "4  To put their demons to rest once and for all J...   \n",
              "\n",
              "                             genres  \\\n",
              "0           Horror Mystery Thriller   \n",
              "1  Action Adventure Science Fiction   \n",
              "2  Action Adventure Science Fiction   \n",
              "3                      Drama Action   \n",
              "4           Horror Mystery Thriller   \n",
              "\n",
              "                                            keywords  \\\n",
              "0  spain rome italy vatican pope pig possession c...   \n",
              "1  peru alien end of the world based on cartoon b...   \n",
              "2  hero ant sequel superhero based on comic famil...   \n",
              "3  philadelphia pennsylvania husband wife relatio...   \n",
              "4  sequel demon franchise insidious supernatural ...   \n",
              "\n",
              "                                             credits  \n",
              "0  Russell Crowe Daniel Zovatto Alex Essoe Franco...  \n",
              "1  Anthony Ramos Dominique Fishback Luna Lauren V...  \n",
              "2  Paul Rudd Evangeline Lilly Jonathan Majors Kat...  \n",
              "3  Michael B. Jordan Tessa Thompson Jonathan Majo...  \n",
              "4  Ty Simpkins Patrick Wilson Sinclair Daniel Ros...  "
            ],
            "text/html": [
              "\n",
              "  <div id=\"df-dd7f170e-c0f1-4da0-a6b3-f1b3caf29518\" class=\"colab-df-container\">\n",
              "    <div>\n",
              "<style scoped>\n",
              "    .dataframe tbody tr th:only-of-type {\n",
              "        vertical-align: middle;\n",
              "    }\n",
              "\n",
              "    .dataframe tbody tr th {\n",
              "        vertical-align: top;\n",
              "    }\n",
              "\n",
              "    .dataframe thead th {\n",
              "        text-align: right;\n",
              "    }\n",
              "</style>\n",
              "<table border=\"1\" class=\"dataframe\">\n",
              "  <thead>\n",
              "    <tr style=\"text-align: right;\">\n",
              "      <th></th>\n",
              "      <th>id</th>\n",
              "      <th>title</th>\n",
              "      <th>original_language</th>\n",
              "      <th>overview</th>\n",
              "      <th>genres</th>\n",
              "      <th>keywords</th>\n",
              "      <th>credits</th>\n",
              "    </tr>\n",
              "  </thead>\n",
              "  <tbody>\n",
              "    <tr>\n",
              "      <th>0</th>\n",
              "      <td>758323</td>\n",
              "      <td>The Pope's Exorcist</td>\n",
              "      <td>en</td>\n",
              "      <td>Father Gabriele Amorth Chief Exorcist of the V...</td>\n",
              "      <td>Horror Mystery Thriller</td>\n",
              "      <td>spain rome italy vatican pope pig possession c...</td>\n",
              "      <td>Russell Crowe Daniel Zovatto Alex Essoe Franco...</td>\n",
              "    </tr>\n",
              "    <tr>\n",
              "      <th>1</th>\n",
              "      <td>667538</td>\n",
              "      <td>Transformers: Rise of the Beasts</td>\n",
              "      <td>en</td>\n",
              "      <td>When a new threat capable of destroying the en...</td>\n",
              "      <td>Action Adventure Science Fiction</td>\n",
              "      <td>peru alien end of the world based on cartoon b...</td>\n",
              "      <td>Anthony Ramos Dominique Fishback Luna Lauren V...</td>\n",
              "    </tr>\n",
              "    <tr>\n",
              "      <th>2</th>\n",
              "      <td>640146</td>\n",
              "      <td>Ant-Man and the Wasp: Quantumania</td>\n",
              "      <td>en</td>\n",
              "      <td>Super-Hero partners Scott Lang and Hope van Dy...</td>\n",
              "      <td>Action Adventure Science Fiction</td>\n",
              "      <td>hero ant sequel superhero based on comic famil...</td>\n",
              "      <td>Paul Rudd Evangeline Lilly Jonathan Majors Kat...</td>\n",
              "    </tr>\n",
              "    <tr>\n",
              "      <th>3</th>\n",
              "      <td>677179</td>\n",
              "      <td>Creed III</td>\n",
              "      <td>en</td>\n",
              "      <td>After dominating the boxing world Adonis Creed...</td>\n",
              "      <td>Drama Action</td>\n",
              "      <td>philadelphia pennsylvania husband wife relatio...</td>\n",
              "      <td>Michael B. Jordan Tessa Thompson Jonathan Majo...</td>\n",
              "    </tr>\n",
              "    <tr>\n",
              "      <th>4</th>\n",
              "      <td>614479</td>\n",
              "      <td>Insidious: The Red Door</td>\n",
              "      <td>en</td>\n",
              "      <td>To put their demons to rest once and for all J...</td>\n",
              "      <td>Horror Mystery Thriller</td>\n",
              "      <td>sequel demon franchise insidious supernatural ...</td>\n",
              "      <td>Ty Simpkins Patrick Wilson Sinclair Daniel Ros...</td>\n",
              "    </tr>\n",
              "  </tbody>\n",
              "</table>\n",
              "</div>\n",
              "    <div class=\"colab-df-buttons\">\n",
              "\n",
              "  <div class=\"colab-df-container\">\n",
              "    <button class=\"colab-df-convert\" onclick=\"convertToInteractive('df-dd7f170e-c0f1-4da0-a6b3-f1b3caf29518')\"\n",
              "            title=\"Convert this dataframe to an interactive table.\"\n",
              "            style=\"display:none;\">\n",
              "\n",
              "  <svg xmlns=\"http://www.w3.org/2000/svg\" height=\"24px\" viewBox=\"0 -960 960 960\">\n",
              "    <path d=\"M120-120v-720h720v720H120Zm60-500h600v-160H180v160Zm220 220h160v-160H400v160Zm0 220h160v-160H400v160ZM180-400h160v-160H180v160Zm440 0h160v-160H620v160ZM180-180h160v-160H180v160Zm440 0h160v-160H620v160Z\"/>\n",
              "  </svg>\n",
              "    </button>\n",
              "\n",
              "  <style>\n",
              "    .colab-df-container {\n",
              "      display:flex;\n",
              "      gap: 12px;\n",
              "    }\n",
              "\n",
              "    .colab-df-convert {\n",
              "      background-color: #E8F0FE;\n",
              "      border: none;\n",
              "      border-radius: 50%;\n",
              "      cursor: pointer;\n",
              "      display: none;\n",
              "      fill: #1967D2;\n",
              "      height: 32px;\n",
              "      padding: 0 0 0 0;\n",
              "      width: 32px;\n",
              "    }\n",
              "\n",
              "    .colab-df-convert:hover {\n",
              "      background-color: #E2EBFA;\n",
              "      box-shadow: 0px 1px 2px rgba(60, 64, 67, 0.3), 0px 1px 3px 1px rgba(60, 64, 67, 0.15);\n",
              "      fill: #174EA6;\n",
              "    }\n",
              "\n",
              "    .colab-df-buttons div {\n",
              "      margin-bottom: 4px;\n",
              "    }\n",
              "\n",
              "    [theme=dark] .colab-df-convert {\n",
              "      background-color: #3B4455;\n",
              "      fill: #D2E3FC;\n",
              "    }\n",
              "\n",
              "    [theme=dark] .colab-df-convert:hover {\n",
              "      background-color: #434B5C;\n",
              "      box-shadow: 0px 1px 3px 1px rgba(0, 0, 0, 0.15);\n",
              "      filter: drop-shadow(0px 1px 2px rgba(0, 0, 0, 0.3));\n",
              "      fill: #FFFFFF;\n",
              "    }\n",
              "  </style>\n",
              "\n",
              "    <script>\n",
              "      const buttonEl =\n",
              "        document.querySelector('#df-dd7f170e-c0f1-4da0-a6b3-f1b3caf29518 button.colab-df-convert');\n",
              "      buttonEl.style.display =\n",
              "        google.colab.kernel.accessAllowed ? 'block' : 'none';\n",
              "\n",
              "      async function convertToInteractive(key) {\n",
              "        const element = document.querySelector('#df-dd7f170e-c0f1-4da0-a6b3-f1b3caf29518');\n",
              "        const dataTable =\n",
              "          await google.colab.kernel.invokeFunction('convertToInteractive',\n",
              "                                                    [key], {});\n",
              "        if (!dataTable) return;\n",
              "\n",
              "        const docLinkHtml = 'Like what you see? Visit the ' +\n",
              "          '<a target=\"_blank\" href=https://colab.research.google.com/notebooks/data_table.ipynb>data table notebook</a>'\n",
              "          + ' to learn more about interactive tables.';\n",
              "        element.innerHTML = '';\n",
              "        dataTable['output_type'] = 'display_data';\n",
              "        await google.colab.output.renderOutput(dataTable, element);\n",
              "        const docLink = document.createElement('div');\n",
              "        docLink.innerHTML = docLinkHtml;\n",
              "        element.appendChild(docLink);\n",
              "      }\n",
              "    </script>\n",
              "  </div>\n",
              "\n",
              "\n",
              "<div id=\"df-1fce4450-c3a2-4ce0-8a4d-3fa213a053a8\">\n",
              "  <button class=\"colab-df-quickchart\" onclick=\"quickchart('df-1fce4450-c3a2-4ce0-8a4d-3fa213a053a8')\"\n",
              "            title=\"Suggest charts.\"\n",
              "            style=\"display:none;\">\n",
              "\n",
              "<svg xmlns=\"http://www.w3.org/2000/svg\" height=\"24px\"viewBox=\"0 0 24 24\"\n",
              "     width=\"24px\">\n",
              "    <g>\n",
              "        <path d=\"M19 3H5c-1.1 0-2 .9-2 2v14c0 1.1.9 2 2 2h14c1.1 0 2-.9 2-2V5c0-1.1-.9-2-2-2zM9 17H7v-7h2v7zm4 0h-2V7h2v10zm4 0h-2v-4h2v4z\"/>\n",
              "    </g>\n",
              "</svg>\n",
              "  </button>\n",
              "\n",
              "<style>\n",
              "  .colab-df-quickchart {\n",
              "    background-color: #E8F0FE;\n",
              "    border: none;\n",
              "    border-radius: 50%;\n",
              "    cursor: pointer;\n",
              "    display: none;\n",
              "    fill: #1967D2;\n",
              "    height: 32px;\n",
              "    padding: 0 0 0 0;\n",
              "    width: 32px;\n",
              "  }\n",
              "\n",
              "  .colab-df-quickchart:hover {\n",
              "    background-color: #E2EBFA;\n",
              "    box-shadow: 0px 1px 2px rgba(60, 64, 67, 0.3), 0px 1px 3px 1px rgba(60, 64, 67, 0.15);\n",
              "    fill: #174EA6;\n",
              "  }\n",
              "\n",
              "  [theme=dark] .colab-df-quickchart {\n",
              "    background-color: #3B4455;\n",
              "    fill: #D2E3FC;\n",
              "  }\n",
              "\n",
              "  [theme=dark] .colab-df-quickchart:hover {\n",
              "    background-color: #434B5C;\n",
              "    box-shadow: 0px 1px 3px 1px rgba(0, 0, 0, 0.15);\n",
              "    filter: drop-shadow(0px 1px 2px rgba(0, 0, 0, 0.3));\n",
              "    fill: #FFFFFF;\n",
              "  }\n",
              "</style>\n",
              "\n",
              "  <script>\n",
              "    async function quickchart(key) {\n",
              "      const charts = await google.colab.kernel.invokeFunction(\n",
              "          'suggestCharts', [key], {});\n",
              "    }\n",
              "    (() => {\n",
              "      let quickchartButtonEl =\n",
              "        document.querySelector('#df-1fce4450-c3a2-4ce0-8a4d-3fa213a053a8 button');\n",
              "      quickchartButtonEl.style.display =\n",
              "        google.colab.kernel.accessAllowed ? 'block' : 'none';\n",
              "    })();\n",
              "  </script>\n",
              "</div>\n",
              "    </div>\n",
              "  </div>\n"
            ]
          },
          "metadata": {},
          "execution_count": 27
        }
      ],
      "source": [
        "df.head()"
      ],
      "id": "1a846373"
    },
    {
      "cell_type": "code",
      "execution_count": null,
      "metadata": {
        "id": "7bf30ef2"
      },
      "outputs": [],
      "source": [
        "df['tags']=df['original_language']+ \" \"+df['overview']+\" \"+df['credits']+\" \"+df['genres'] +\" \"+df['keywords']"
      ],
      "id": "7bf30ef2"
    },
    {
      "cell_type": "code",
      "execution_count": null,
      "metadata": {
        "colab": {
          "base_uri": "https://localhost:8080/"
        },
        "id": "89581974",
        "outputId": "7da3e966-33c6-416c-ed55-4714486c7ef6"
      },
      "outputs": [
        {
          "output_type": "execute_result",
          "data": {
            "text/plain": [
              "0        en Father Gabriele Amorth Chief Exorcist of th...\n",
              "1        en When a new threat capable of destroying the...\n",
              "2        en Super-Hero partners Scott Lang and Hope van...\n",
              "3        en After dominating the boxing world Adonis Cr...\n",
              "4        en To put their demons to rest once and for al...\n",
              "                               ...                        \n",
              "20043    es Mikel will marry Julia owner of a major jew...\n",
              "20044    fr With only 12 percent of its pupils obtainin...\n",
              "20045    fr Arnaud Dubois may be the heir to a bank but...\n",
              "20046    en The bitter fight for supremacy between the ...\n",
              "20047    ar The drama the story of three childhood frie...\n",
              "Name: tags, Length: 20045, dtype: object"
            ]
          },
          "metadata": {},
          "execution_count": 29
        }
      ],
      "source": [
        "df['tags']"
      ],
      "id": "89581974"
    },
    {
      "cell_type": "code",
      "execution_count": null,
      "metadata": {
        "id": "0881e239",
        "colab": {
          "base_uri": "https://localhost:8080/",
          "height": 88
        },
        "outputId": "481cd5ee-8418-4d42-a923-82e38d9f8020"
      },
      "outputs": [
        {
          "output_type": "execute_result",
          "data": {
            "text/plain": [
              "\"en Father Gabriele Amorth Chief Exorcist of the Vatican investigates a young boy's terrifying possession and ends up uncovering a centuries-old conspiracy the Vatican has desperately tried to keep hidden. Russell Crowe Daniel Zovatto Alex Essoe Franco Nero Peter DeSouza Horror Mystery Thriller spain rome italy vatican pope pig possession conspiracy devil exorcist skepticism catholic priest 1980s supernatural horror\""
            ],
            "application/vnd.google.colaboratory.intrinsic+json": {
              "type": "string"
            }
          },
          "metadata": {},
          "execution_count": 30
        }
      ],
      "source": [
        "df['tags'][0]"
      ],
      "id": "0881e239"
    },
    {
      "cell_type": "code",
      "execution_count": null,
      "metadata": {
        "id": "35655517"
      },
      "outputs": [],
      "source": [
        "new_df1=df[['id','title','tags']]"
      ],
      "id": "35655517"
    },
    {
      "cell_type": "code",
      "execution_count": null,
      "metadata": {
        "id": "6b01c0d7"
      },
      "outputs": [],
      "source": [
        "new_df = new_df1.copy()"
      ],
      "id": "6b01c0d7"
    },
    {
      "cell_type": "code",
      "execution_count": null,
      "metadata": {
        "colab": {
          "base_uri": "https://localhost:8080/",
          "height": 88
        },
        "id": "4bdc327d",
        "outputId": "d3470a05-aeb2-4a2d-e07f-a2add012b0f7"
      },
      "outputs": [
        {
          "output_type": "execute_result",
          "data": {
            "text/plain": [
              "\"en Father Gabriele Amorth Chief Exorcist of the Vatican investigates a young boy's terrifying possession and ends up uncovering a centuries-old conspiracy the Vatican has desperately tried to keep hidden. Russell Crowe Daniel Zovatto Alex Essoe Franco Nero Peter DeSouza Horror Mystery Thriller spain rome italy vatican pope pig possession conspiracy devil exorcist skepticism catholic priest 1980s supernatural horror\""
            ],
            "application/vnd.google.colaboratory.intrinsic+json": {
              "type": "string"
            }
          },
          "metadata": {},
          "execution_count": 33
        }
      ],
      "source": [
        "new_df['tags'][0]"
      ],
      "id": "4bdc327d"
    },
    {
      "cell_type": "code",
      "execution_count": null,
      "metadata": {
        "id": "kBHgSIDF5ZNk"
      },
      "outputs": [],
      "source": [
        "from nltk.stem.porter import PorterStemmer\n",
        "ps = PorterStemmer()"
      ],
      "id": "kBHgSIDF5ZNk"
    },
    {
      "cell_type": "code",
      "execution_count": null,
      "metadata": {
        "id": "DkRBNkgw5m2N"
      },
      "outputs": [],
      "source": [
        "def stem(text):\n",
        "    y = []\n",
        "\n",
        "    for i in text.split():\n",
        "        y.append(ps.stem(i))\n",
        "\n",
        "    return ' '.join(y)"
      ],
      "id": "DkRBNkgw5m2N"
    },
    {
      "cell_type": "code",
      "source": [
        "new_df[\"tags\"] = new_df[\"tags\"].apply(stem)"
      ],
      "metadata": {
        "id": "tvLZ6NpTc1Bt"
      },
      "id": "tvLZ6NpTc1Bt",
      "execution_count": null,
      "outputs": []
    },
    {
      "cell_type": "code",
      "execution_count": null,
      "metadata": {
        "colab": {
          "base_uri": "https://localhost:8080/"
        },
        "id": "90c42ee6",
        "outputId": "1844e428-e69b-4dbf-c6b2-1517a4258f09"
      },
      "outputs": [
        {
          "output_type": "execute_result",
          "data": {
            "text/plain": [
              "0        en father gabriel amorth chief exorcist of the...\n",
              "1        en when a new threat capabl of destroy the ent...\n",
              "2        en super-hero partner scott lang and hope van ...\n",
              "3        en after domin the box world adoni creed ha be...\n",
              "4        en to put their demon to rest onc and for all ...\n",
              "                               ...                        \n",
              "20043    es mikel will marri julia owner of a major jew...\n",
              "20044    fr with onli 12 percent of it pupil obtain the...\n",
              "20045    fr arnaud duboi may be the heir to a bank but ...\n",
              "20046    en the bitter fight for supremaci between the ...\n",
              "20047    ar the drama the stori of three childhood frie...\n",
              "Name: tags, Length: 20045, dtype: object"
            ]
          },
          "metadata": {},
          "execution_count": 37
        }
      ],
      "source": [
        "new_df['tags'].apply(lambda x: x.lower())"
      ],
      "id": "90c42ee6"
    },
    {
      "cell_type": "code",
      "execution_count": null,
      "metadata": {
        "id": "87c5c76d"
      },
      "outputs": [],
      "source": [
        "from sklearn.feature_extraction.text import CountVectorizer\n",
        "cv = CountVectorizer(max_features=5000,stop_words='english')"
      ],
      "id": "87c5c76d"
    },
    {
      "cell_type": "code",
      "execution_count": null,
      "metadata": {
        "id": "1b18cc0f",
        "scrolled": true
      },
      "outputs": [],
      "source": [
        "X=cv.fit_transform(new_df['tags']).toarray()"
      ],
      "id": "1b18cc0f"
    },
    {
      "cell_type": "code",
      "execution_count": null,
      "metadata": {
        "id": "1ee4e27b",
        "colab": {
          "base_uri": "https://localhost:8080/"
        },
        "outputId": "cfde98e0-fbd0-4584-e1cd-1bcc90237693"
      },
      "outputs": [
        {
          "output_type": "execute_result",
          "data": {
            "text/plain": [
              "array([[0, 0, 0, ..., 0, 0, 0],\n",
              "       [0, 0, 0, ..., 0, 0, 0],\n",
              "       [0, 0, 0, ..., 0, 0, 0],\n",
              "       ...,\n",
              "       [0, 0, 0, ..., 0, 0, 0],\n",
              "       [0, 0, 0, ..., 0, 0, 0],\n",
              "       [0, 0, 0, ..., 0, 0, 0]])"
            ]
          },
          "metadata": {},
          "execution_count": 40
        }
      ],
      "source": [
        "X"
      ],
      "id": "1ee4e27b"
    },
    {
      "cell_type": "code",
      "source": [
        "X.shape"
      ],
      "metadata": {
        "colab": {
          "base_uri": "https://localhost:8080/"
        },
        "id": "EHxcHZHII_TF",
        "outputId": "b57fb8ee-3e00-4656-d85d-006909dde166"
      },
      "id": "EHxcHZHII_TF",
      "execution_count": null,
      "outputs": [
        {
          "output_type": "execute_result",
          "data": {
            "text/plain": [
              "(20045, 5000)"
            ]
          },
          "metadata": {},
          "execution_count": 41
        }
      ]
    },
    {
      "cell_type": "code",
      "source": [
        "from sklearn.metrics.pairwise import cosine_similarity"
      ],
      "metadata": {
        "id": "rc38nZdTJVEp"
      },
      "id": "rc38nZdTJVEp",
      "execution_count": null,
      "outputs": []
    },
    {
      "cell_type": "code",
      "source": [
        "similarity = cosine_similarity(X)"
      ],
      "metadata": {
        "id": "ZrCzPIyQJZRq"
      },
      "id": "ZrCzPIyQJZRq",
      "execution_count": null,
      "outputs": []
    },
    {
      "cell_type": "code",
      "source": [
        "similarity"
      ],
      "metadata": {
        "colab": {
          "base_uri": "https://localhost:8080/"
        },
        "id": "9i0a22cQJxQl",
        "outputId": "361b570f-de4a-4382-b76d-74067920b3b6"
      },
      "id": "9i0a22cQJxQl",
      "execution_count": null,
      "outputs": [
        {
          "output_type": "execute_result",
          "data": {
            "text/plain": [
              "array([[1.        , 0.0360375 , 0.01611646, ..., 0.0381385 , 0.01712469,\n",
              "        0.05884899],\n",
              "       [0.0360375 , 1.        , 0.20763488, ..., 0.        , 0.01697111,\n",
              "        0.        ],\n",
              "       [0.01611646, 0.20763488, 1.        , ..., 0.01690309, 0.03035884,\n",
              "        0.        ],\n",
              "       ...,\n",
              "       [0.0381385 , 0.        , 0.01690309, ..., 1.        , 0.12572371,\n",
              "        0.06172134],\n",
              "       [0.01712469, 0.01697111, 0.03035884, ..., 0.12572371, 1.        ,\n",
              "        0.1939959 ],\n",
              "       [0.05884899, 0.        , 0.        , ..., 0.06172134, 0.1939959 ,\n",
              "        1.        ]])"
            ]
          },
          "metadata": {},
          "execution_count": 44
        }
      ]
    },
    {
      "cell_type": "code",
      "source": [
        "similarity.shape"
      ],
      "metadata": {
        "colab": {
          "base_uri": "https://localhost:8080/"
        },
        "id": "KaYHBa9FJzK2",
        "outputId": "416ab14c-aa0a-472b-dc8b-021c4b6ebf81"
      },
      "id": "KaYHBa9FJzK2",
      "execution_count": null,
      "outputs": [
        {
          "output_type": "execute_result",
          "data": {
            "text/plain": [
              "(20045, 20045)"
            ]
          },
          "metadata": {},
          "execution_count": 45
        }
      ]
    },
    {
      "cell_type": "code",
      "source": [
        "def recommend(movie):\n",
        "    index = new_df[new_df['title'] == movie].index[0]\n",
        "    distances = sorted(list(enumerate(similarity[index])),reverse=True,key = lambda x: x[1])\n",
        "    for i in distances[1:6]:\n",
        "        print(new_df.iloc[i[0]].title)"
      ],
      "metadata": {
        "id": "wzzigYOOLcyj"
      },
      "id": "wzzigYOOLcyj",
      "execution_count": null,
      "outputs": []
    },
    {
      "cell_type": "code",
      "source": [
        "recommend('Batman Begins')"
      ],
      "metadata": {
        "colab": {
          "base_uri": "https://localhost:8080/"
        },
        "id": "nwsGpeYqLlfB",
        "outputId": "142a1c57-adc8-48a5-aadd-4e4e4d5999b8"
      },
      "id": "nwsGpeYqLlfB",
      "execution_count": null,
      "outputs": [
        {
          "output_type": "stream",
          "name": "stdout",
          "text": [
            "The Dark Knight\n",
            "Batman\n",
            "The Dark Knight Rises\n",
            "Batman: Mask of the Phantasm\n",
            "Spider-Man 2\n"
          ]
        }
      ]
    },
    {
      "cell_type": "code",
      "source": [
        "recommend('Batman')"
      ],
      "metadata": {
        "colab": {
          "base_uri": "https://localhost:8080/"
        },
        "id": "c95NxcJCeL28",
        "outputId": "7a6ec686-0c14-4adc-eea7-993cc5b87b43"
      },
      "id": "c95NxcJCeL28",
      "execution_count": null,
      "outputs": [
        {
          "output_type": "stream",
          "name": "stdout",
          "text": [
            "The Dark Knight\n",
            "Batman Returns\n",
            "Batman: Mask of the Phantasm\n",
            "Batman Begins\n",
            "Batman & Robin\n"
          ]
        }
      ]
    },
    {
      "cell_type": "code",
      "source": [
        "import pickle"
      ],
      "metadata": {
        "id": "A_cqEIYfKqZJ"
      },
      "id": "A_cqEIYfKqZJ",
      "execution_count": null,
      "outputs": []
    },
    {
      "cell_type": "code",
      "source": [
        "pickle.dump(new_df,open('movies.pkl','wb'))"
      ],
      "metadata": {
        "id": "_O9PjQKxKwCJ"
      },
      "id": "_O9PjQKxKwCJ",
      "execution_count": null,
      "outputs": []
    },
    {
      "cell_type": "code",
      "source": [
        "pickle.dump(new_df.to_dict(),open('movie_dict.pkl','wb'))"
      ],
      "metadata": {
        "id": "j041wdbEhA4J"
      },
      "id": "j041wdbEhA4J",
      "execution_count": null,
      "outputs": []
    },
    {
      "cell_type": "code",
      "source": [
        "pickle.dump(similarity,open('similarity.pkl','wb'))"
      ],
      "metadata": {
        "id": "Ga-qmdcVBjaQ"
      },
      "id": "Ga-qmdcVBjaQ",
      "execution_count": null,
      "outputs": []
    }
  ],
  "metadata": {
    "colab": {
      "provenance": []
    },
    "kernelspec": {
      "display_name": "Python 3 (ipykernel)",
      "language": "python",
      "name": "python3"
    },
    "language_info": {
      "codemirror_mode": {
        "name": "ipython",
        "version": 3
      },
      "file_extension": ".py",
      "mimetype": "text/x-python",
      "name": "python",
      "nbconvert_exporter": "python",
      "pygments_lexer": "ipython3",
      "version": "3.11.3"
    }
  },
  "nbformat": 4,
  "nbformat_minor": 5
}